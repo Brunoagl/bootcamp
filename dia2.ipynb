{
 "cells": [
  {
   "cell_type": "code",
   "execution_count": 38,
   "id": "72b3a625",
   "metadata": {},
   "outputs": [
    {
     "name": "stdout",
     "output_type": "stream",
     "text": [
      "verificar la marca 15\n",
      "color del vehiculo: 17\n",
      "chapa del vehiculo: \n",
      "modelo del auto: \n"
     ]
    }
   ],
   "source": [
    "def buscar_auto(marca,color,chapa,modelo):\n",
    "    print(f'verificar la marca {marca}')\n",
    "    print(f'color del vehiculo: {color}')\n",
    "    print(f'chapa del vehiculo: {chapa}')\n",
    "    print(f'modelo del auto: {modelo}')\n",
    "\n",
    "marca_del_vehiculo = input('ingrese la marca')\n",
    "color_del_vehiculo = input('ingrese el color')\n",
    "chapa_del_vehiculo = input('ingrese la chapa')\n",
    "modelo_del_vehiculo = input('ingrese el modelo')\n",
    "\n",
    "buscar_auto(marca_del_vehiculo,color_del_vehiculo,chapa_del_vehiculo,modelo_del_vehiculo)\n"
   ]
  },
  {
   "cell_type": "code",
   "execution_count": 70,
   "id": "5fad649c",
   "metadata": {},
   "outputs": [
    {
     "name": "stdout",
     "output_type": "stream",
     "text": [
      "hace lo q quieras\n"
     ]
    }
   ],
   "source": [
    "# CHALLENGE 1\n",
    "\n",
    "numero = int(input('que edad tienes?'))\n",
    "# print(f'puedes tomar pero no comprar:{numero}')\n",
    "\n",
    "if numero < 18:\n",
    "    print(f'juguito nomas: {numero}')\n",
    "\n",
    "elif numero < 21:\n",
    "    print(f'puedes tomar pero no comprar: {numero}')\n",
    "\n",
    "else:\n",
    "    print('hace lo q quieras')\n"
   ]
  },
  {
   "cell_type": "code",
   "execution_count": null,
   "id": "e4d2aaf2",
   "metadata": {},
   "outputs": [
    {
     "name": "stdout",
     "output_type": "stream",
     "text": [
      "temperatura escrita: -30\n",
      "fresquete\n"
     ]
    }
   ],
   "source": [
    "#CHALLENGE 2\n",
    "temperatura = int(input('la temperatura'))\n",
    "print(f'temperatura escrita: {temperatura}')\n",
    "\n",
    "if temperatura <= -10:\n",
    "    print('fresquete')\n",
    "    \n",
    "elif temperatura < 18:\n",
    "    print('fresquete')\n",
    "\n",
    "elif temperatura <= 19:\n",
    "    print(\"calor'i\")\n",
    "\n",
    "elif temperatura < 30:\n",
    "    print(\"calor'i\")\n",
    "\n",
    "elif temperatura <= 31:\n",
    "    print('hakuuuu')\n",
    "\n",
    "elif temperatura < 45:\n",
    "    print('hakuuuu')\n",
    "\n",
    "else:\n",
    "    print(\"Ñamando mba'e\")"
   ]
  },
  {
   "cell_type": "code",
   "execution_count": null,
   "id": "e3578503",
   "metadata": {},
   "outputs": [
    {
     "name": "stdout",
     "output_type": "stream",
     "text": [
      "la contrasenha es incorrecta\n",
      "la contrasenha es incorrecta\n",
      "la contrasenha es incorrecta\n",
      "la contrasenha es incorrecta\n",
      "la contrasenha es correcta\n"
     ]
    }
   ],
   "source": [
    "#challenge\n",
    "\n",
    "contrasenha = int(input('ingrese la contrasenha'))\n",
    "\n",
    "while True:\n",
    "    if contrasenha == 123456:\n",
    "        print('la contrasenha es correcta')\n",
    "        break\n",
    "    \n",
    "    else:\n",
    "        print('la contrasenha es incorrecta')\n",
    "    contrasenha = int(input('ingrese la contrasenha'))"
   ]
  },
  {
   "cell_type": "code",
   "execution_count": 10,
   "id": "4fc1dd10",
   "metadata": {},
   "outputs": [
    {
     "name": "stdout",
     "output_type": "stream",
     "text": [
      "['papa', 'banana', 'azucar', 'leche', 'limon']\n"
     ]
    }
   ],
   "source": [
    "#challengue\n",
    "\n",
    "lista_de_super =['papa','mandioca','pan','azucar','leche']\n",
    "\n",
    "lista_de_super.append('limon')\n",
    "\n",
    "lista_de_super [1] = 'banana'\n",
    "\n",
    "lista_de_super.remove('pan')\n",
    "print(lista_de_super)"
   ]
  },
  {
   "cell_type": "code",
   "execution_count": 23,
   "id": "fbd52326",
   "metadata": {},
   "outputs": [
    {
     "name": "stdout",
     "output_type": "stream",
     "text": [
      "0\n",
      "2\n",
      "4\n",
      "6\n",
      "8\n",
      "10\n",
      "12\n",
      "14\n",
      "16\n",
      "18\n"
     ]
    }
   ],
   "source": [
    "#challenge\n",
    "\n",
    "for iterador in range (10):\n",
    "    print(iterador*2)"
   ]
  },
  {
   "cell_type": "code",
   "execution_count": 12,
   "id": "bdd90c7b",
   "metadata": {},
   "outputs": [
    {
     "name": "stdout",
     "output_type": "stream",
     "text": [
      "delicata\n",
      "helmans\n",
      "adidas\n"
     ]
    }
   ],
   "source": [
    "#challenge\n",
    "\n",
    "marcas = ['delicata','helmans','fanta','pepsi','adidas']\n",
    "\n",
    "\n",
    "for iterador in range(tamanho):\n",
    "    if len(marcas[iterador]) >= 6:\n",
    "        print(marcas[iterador])\n",
    "\n"
   ]
  },
  {
   "cell_type": "code",
   "execution_count": 26,
   "id": "3bf5f41b",
   "metadata": {},
   "outputs": [
    {
     "name": "stdout",
     "output_type": "stream",
     "text": [
      "encontre la letra o\n"
     ]
    }
   ],
   "source": [
    "#challenge\n",
    "frase = input('ingrese la frace') \n",
    "for letra in frase:\n",
    "    if letra == 'o' or letra == \"o\":\n",
    "        print('encontre la letra o')"
   ]
  }
 ],
 "metadata": {
  "kernelspec": {
   "display_name": ".venv",
   "language": "python",
   "name": "python3"
  },
  "language_info": {
   "codemirror_mode": {
    "name": "ipython",
    "version": 3
   },
   "file_extension": ".py",
   "mimetype": "text/x-python",
   "name": "python",
   "nbconvert_exporter": "python",
   "pygments_lexer": "ipython3",
   "version": "3.12.3"
  }
 },
 "nbformat": 4,
 "nbformat_minor": 5
}
