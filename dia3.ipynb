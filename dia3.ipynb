{
 "cells": [
  {
   "cell_type": "code",
   "execution_count": null,
   "id": "0c313d87",
   "metadata": {},
   "outputs": [
    {
     "name": "stdout",
     "output_type": "stream",
     "text": [
      "hola\n"
     ]
    }
   ],
   "source": [
    "#CHALLENGE 1\n",
    "\n",
    "def palabra():\n",
    "    palabra = 'hola'\n",
    "    print(palabra)\n",
    "palabra()"
   ]
  },
  {
   "cell_type": "code",
   "execution_count": null,
   "id": "cfac35aa",
   "metadata": {},
   "outputs": [
    {
     "name": "stdout",
     "output_type": "stream",
     "text": [
      "las letras son iguales\n"
     ]
    }
   ],
   "source": [
    "#CHALLENGE 2\n",
    "\n",
    "letra1 = input('que letra es')\n",
    "letra2 = input('que letra es')\n",
    "def letras(letra1,letra2):\n",
    "    if letra1 == letra2:\n",
    "        print('las letras son iguales')\n",
    "    else:\n",
    "        print('no son iguales')\n",
    "\n",
    "letras(letra1,letra2)\n"
   ]
  },
  {
   "cell_type": "code",
   "execution_count": null,
   "id": "19deaf86",
   "metadata": {},
   "outputs": [
    {
     "data": {
      "text/plain": [
       "True"
      ]
     },
     "execution_count": 43,
     "metadata": {},
     "output_type": "execute_result"
    }
   ],
   "source": [
    "#CHALLENGE 3\n",
    "\n",
    "palabra1 = input('q palabra es')\n",
    "numero1 = int(input('q numero es'))\n",
    "\n",
    "def palabra_numero(palabra1,numero1):\n",
    "    if len(palabra1) == numero1:\n",
    "        return True \n",
    "    else:\n",
    "        return False\n",
    "   \n",
    "    \n",
    "palabra_numero(palabra1,numero1)"
   ]
  },
  {
   "cell_type": "code",
   "execution_count": null,
   "id": "ebc4e323",
   "metadata": {},
   "outputs": [
    {
     "name": "stdout",
     "output_type": "stream",
     "text": [
      "[['h', 'o', 'l', 'a']]\n",
      "[['h', 'o', 'l', 'a'], ['q', 'u', 'e']]\n",
      "[['h', 'o', 'l', 'a'], ['q', 'u', 'e'], ['t', 'a', 'l']]\n"
     ]
    }
   ],
   "source": [
    "#CHALLENGE 4\n",
    "palabras_ingresadas = []\n",
    "\n",
    "for i in range(3):\n",
    "    palabra = input(\"palabra ingresada\")\n",
    "    lista_de_palabras = list(palabra)\n",
    "    palabras_ingresadas.append(lista_de_palabras)\n",
    "    print(palabras_ingresadas)\n",
    "    \n",
    "\n"
   ]
  },
  {
   "cell_type": "code",
   "execution_count": 103,
   "id": "07877ebd",
   "metadata": {},
   "outputs": [
    {
     "name": "stdout",
     "output_type": "stream",
     "text": [
      "['h', 'o', 'l', 'i', 's']\n",
      "['h', 'e', 'l', 'l', 'o']\n",
      "['h', 'a', 'l', 'l', 'o']\n"
     ]
    }
   ],
   "source": [
    "grilla = [['h','o','l','i','s'], ['h','e','l','l','o'],['h','a','l','l','o']]\n",
    "def imprimir_grilla(grilla):\n",
    "    for fila in grilla:\n",
    "        print(fila)\n",
    "\n",
    "imprimir_grilla(grilla)"
   ]
  },
  {
   "cell_type": "code",
   "execution_count": null,
   "id": "da3a905c",
   "metadata": {},
   "outputs": [
    {
     "name": "stdout",
     "output_type": "stream",
     "text": [
      "bienbenido al juego, tienes 5 intentos\n",
      "resultado: h[o][l][a]s\n",
      "resultado: [a][r][b]u[l]\n",
      "resultado: [a][r]h[o][l]\n",
      "la palabra debe tener 5 letras\n",
      "resultado: ghjfh\n",
      "se te acabaron los itentos,cla palabra era arbol\n"
     ]
    }
   ],
   "source": [
    "def obtener_fila_verificada(palabra_a_encontrar,palabra_ingresada):\n",
    "    cantidad_de_letras = 5\n",
    "    letras_verificadas = []\n",
    "\n",
    "    for posicion in range(cantidad_de_letras):\n",
    "        letra_ingresada = palabra_ingresada[posicion]\n",
    "        letra_objetivo = palabra_a_encontrar[posicion]\n",
    "\n",
    "        if letra_ingresada == letra_objetivo:\n",
    "            letras_verificadas.append(f'[{letra_ingresada}]')\n",
    "        elif letra_ingresada in palabra_a_encontrar:\n",
    "            letras_verificadas.append(f'[{letra_ingresada}]')\n",
    "        else:\n",
    "            letras_verificadas.append(letra_ingresada)\n",
    "\n",
    "    return letras_verificadas\n",
    "\n",
    "#palabra a adivinar\n",
    "palabra_a_encontrar = 'arbol'\n",
    "\n",
    "intentos_maximos = 5\n",
    "print('bienbenido al juego, tienes 5 intentos')\n",
    "\n",
    "for intento in range(1, intentos_maximos + 1):\n",
    "    palabra_ingresada = input(f'intento {intento}: ').lower()\n",
    "    \n",
    "    if len(palabra_ingresada) != 5:\n",
    "        print('la palabra debe tener 5 letras')\n",
    "        continue\n",
    "    if palabra_ingresada == palabra_a_encontrar:\n",
    "        print('encontraste la palabra')\n",
    "        break\n",
    "\n",
    "    resultado = obtener_fila_verificada(palabra_a_encontrar, palabra_ingresada)\n",
    "    print('resultado:', ''.join(resultado))\n",
    "\n",
    "    if intento == intentos_maximos:\n",
    "        print(f'se te acabaron los itentos,la palabra era {palabra_a_encontrar}')\n"
   ]
  },
  {
   "cell_type": "code",
   "execution_count": 3,
   "id": "9c9de3d3",
   "metadata": {},
   "outputs": [
    {
     "name": "stdout",
     "output_type": "stream",
     "text": [
      "bienbenido al juego, tienes 5 intentos\n",
      "resultado: ba[l][a][s]\n",
      "encontraste la palabra\n"
     ]
    }
   ],
   "source": [
    "def obtener_fila_verificada(palabra_a_encontrar, palabra_ingresada):\n",
    "\n",
    "    #cantidad de letras de la palabra\n",
    "    cantidad_de_letras = 5\n",
    "\n",
    "    #letras verificadas de la palabra\n",
    "    letras_verificadas = [\"\"] * cantidad_de_letras\n",
    "\n",
    "    #las letras usadas en la palabra a encontrar\n",
    "    letras_usadas = list(palabra_a_encontrar)\n",
    "\n",
    "    # Primera pasada: si la posicion de las letras es correcta pongo [ ]\n",
    "    for i in range(cantidad_de_letras):\n",
    "        if palabra_ingresada[i] == palabra_a_encontrar[i]:\n",
    "            letras_verificadas[i] = f\"[{palabra_ingresada[i]}]\"\n",
    "            letras_usadas[i] = None  \n",
    "\n",
    "    # Segunda pasada: si las letras estan en la posicion incorrecta uso ( )\n",
    "    for i in range(cantidad_de_letras):\n",
    "        if letras_verificadas[i] == \"\":  \n",
    "            letra = palabra_ingresada[i]\n",
    "            if letra in letras_usadas:\n",
    "                letras_verificadas[i] = f\"({letra})\"\n",
    "    # INDEX: es un metodo q se utiliza en listas y cadenas de textos para encontrar la posicion donde aparece por primera vez un valor\n",
    "                letras_usadas[letras_usadas.index(letra)] = None  \n",
    "            else:\n",
    "                letras_verificadas[i] = letra  \n",
    "\n",
    "    return letras_verificadas\n",
    "\n",
    "#palabra a adivinar\n",
    "palabra_a_encontrar = 'holas'\n",
    "\n",
    "#intrntos del jugador\n",
    "intentos_maximos = 5\n",
    "print('bienbenido al juego, tienes 5 intentos')\n",
    "for intento in range(1, intentos_maximos + 1):\n",
    "    # .LOWER: es unmetdodo de convertir todas las palabras en minuscula\n",
    "    palabra_ingresada = input(f'intento {intento}: ').lower()\n",
    "    \n",
    "    #si la palabra del jugador tiene mas o menos letras\n",
    "    if len(palabra_ingresada) != 5:\n",
    "        print('la palabra debe tener 5 letras')\n",
    "    # CONTINUE: es una instruccion como BREAK q se usa en bucles para saltar el codigo y pasar a la siguiente repeticion\n",
    "        continue\n",
    "\n",
    "    #si encontraste la palabra correcta\n",
    "    if palabra_ingresada == palabra_a_encontrar:\n",
    "        print('encontraste la palabra')\n",
    "        break\n",
    "\n",
    "#resultado final\n",
    "    resultado = obtener_fila_verificada(palabra_a_encontrar, palabra_ingresada)\n",
    "    # .JOIN: es un metodo de las cadenas de texto q une los elementos de la lista en una sola cadena usando un separador como '-'\n",
    "    print('resultado:', ''.join(resultado))\n",
    "\n",
    "#si se te acaban los intentos y no encuentras la respuesta\n",
    "    if intento == intentos_maximos:\n",
    "        print(f'se te acabaron los itentos,la palabra era {palabra_a_encontrar}')"
   ]
  },
  {
   "cell_type": "code",
   "execution_count": null,
   "id": "1a55fc8a",
   "metadata": {},
   "outputs": [],
   "source": [
    "palabra_a_encontrar = 'arbol'"
   ]
  }
 ],
 "metadata": {
  "kernelspec": {
   "display_name": ".venv",
   "language": "python",
   "name": "python3"
  },
  "language_info": {
   "codemirror_mode": {
    "name": "ipython",
    "version": 3
   },
   "file_extension": ".py",
   "mimetype": "text/x-python",
   "name": "python",
   "nbconvert_exporter": "python",
   "pygments_lexer": "ipython3",
   "version": "3.12.3"
  }
 },
 "nbformat": 4,
 "nbformat_minor": 5
}
