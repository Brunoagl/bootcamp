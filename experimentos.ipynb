{
 "cells": [
  {
   "cell_type": "code",
   "execution_count": null,
   "id": "d271a363",
   "metadata": {},
   "outputs": [
    {
     "name": "stdout",
     "output_type": "stream",
     "text": [
      "nombre del personaje:bruno\n",
      "bruno no cumple con el nivel requerido [20], Nivel: 19\n",
      "bruno no tiene la fuerza requerida [20], Fuerza: 19\n",
      "bruno no tiene la resistencia requerida [30], Resistencia: 29\n"
     ]
    }
   ],
   "source": [
    "#condiones\n",
    "#mata a un dragon, necesitas ser nivel 20, fuerza 10, resistencia 30, vida 200\n",
    "\n",
    "personaje = input('que nombre tienes')\n",
    "print(f'nombre del personaje: {personaje}')\n",
    "\n",
    "#NIVEL\n",
    "nivel = int(input('que nivel tienes'))\n",
    "if nivel <= 19:\n",
    "    print(f'{personaje} no cumple con el nivel requerido [20], Nivel: {nivel}')\n",
    "\n",
    "elif nivel >= 20:\n",
    "    print(f'{personaje} cumple con el nivel: {nivel}')\n",
    "\n",
    "#FUERZA\n",
    "fuerza = int(input('que fuerza tienes'))\n",
    "if fuerza <= 19:\n",
    "    print(f'{personaje} no tiene la fuerza requerida [20], Fuerza: {fuerza}')\n",
    "\n",
    "elif fuerza >= 20:\n",
    "    print(f'{personaje} tiene la fuerza requerida: {fuerza}')\n",
    "\n",
    "#RESISTENCIA\n",
    "resistencia = int(input('cuanta resistencia tienes'))\n",
    "if resistencia <= 29:\n",
    "    print(f'{personaje} no tiene la resistencia requerida [30], Resistencia: {resistencia}')\n",
    "\n",
    "elif resistencia >= 30:\n",
    "    print(f'{personaje} tiene la resistencia resistencia requerida: {resistencia}')\n",
    "\n",
    "#VIDA\n",
    "vida = int(input('cuanta vida tienes'))\n",
    "if vida <= 199:\n",
    "    print(f'{personaje} ha muerto')\n",
    "\n",
    "elif vida >=200:\n",
    "    print(f'{personaje} sobrevive')\n",
    "\n",
    "\n"
   ]
  },
  {
   "cell_type": "code",
   "execution_count": 6,
   "id": "98269be3",
   "metadata": {},
   "outputs": [
    {
     "name": "stdout",
     "output_type": "stream",
     "text": [
      "Nombre del personaje: bruno\n",
      "si ataca\n",
      "si se defiende\n"
     ]
    }
   ],
   "source": [
    "# mata al dragon, necesitas una espada y escudo\n",
    "\n",
    "personaje = input('nombre del personaje')\n",
    "espada = input('atacas?')\n",
    "escudo = input('te defiendes?')\n",
    "print(f'Nombre del personaje: {personaje}')\n",
    "\n",
    "\n",
    "if espada == \"si\":\n",
    "    print(f'{espada} ataca')\n",
    "\n",
    "else:\n",
    "    print(f'{personaje} ha muerto')\n",
    "\n",
    "\n",
    "if escudo == \"si\":\n",
    "    print(f'{escudo} se defiende')\n",
    "\n",
    "else:\n",
    "    print(f'{personaje} ha muerto')\n",
    "\n",
    "\n"
   ]
  },
  {
   "cell_type": "code",
   "execution_count": null,
   "id": "10db8966",
   "metadata": {},
   "outputs": [],
   "source": []
  },
  {
   "cell_type": "code",
   "execution_count": 2,
   "id": "527de9cb",
   "metadata": {},
   "outputs": [
    {
     "name": "stdout",
     "output_type": "stream",
     "text": [
      "bruno\n",
      "no\n",
      "None ataca\n"
     ]
    }
   ],
   "source": [
    "\n",
    "personaje = print(input('nombra tu personaje'))\n",
    "espada = True\n",
    "\n",
    "espada = print(input('atacas?'))\n",
    "if personaje == espada:\n",
    "    print(f'{personaje} ataca')"
   ]
  },
  {
   "cell_type": "code",
   "execution_count": null,
   "id": "d5c0fe5a",
   "metadata": {},
   "outputs": [],
   "source": []
  }
 ],
 "metadata": {
  "kernelspec": {
   "display_name": ".venv",
   "language": "python",
   "name": "python3"
  },
  "language_info": {
   "codemirror_mode": {
    "name": "ipython",
    "version": 3
   },
   "file_extension": ".py",
   "mimetype": "text/x-python",
   "name": "python",
   "nbconvert_exporter": "python",
   "pygments_lexer": "ipython3",
   "version": "3.12.3"
  }
 },
 "nbformat": 4,
 "nbformat_minor": 5
}
