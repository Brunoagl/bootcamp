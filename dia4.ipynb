{
 "cells": [
  {
   "cell_type": "code",
   "execution_count": 7,
   "id": "94f6debd",
   "metadata": {},
   "outputs": [
    {
     "name": "stdout",
     "output_type": "stream",
     "text": [
      "4\n",
      "1\n"
     ]
    }
   ],
   "source": [
    "#molde de un perro\n",
    "class Perro:\n",
    "    #atributos de clase\n",
    "    cabeza = 1\n",
    "    patas =  4\n",
    "\n",
    "#creamos al perro\n",
    "perro1 = Perro()\n",
    "\n",
    "print(perro1.patas)\n",
    "print(perro1.cabeza)\n",
    "\n",
    "perro2 = Perro()"
   ]
  },
  {
   "cell_type": "code",
   "execution_count": 3,
   "id": "e1fb7854",
   "metadata": {
    "tags": [
     "parameters"
    ]
   },
   "outputs": [
    {
     "name": "stdout",
     "output_type": "stream",
     "text": [
      "labrador\n",
      "blanco\n"
     ]
    }
   ],
   "source": [
    "#molde de un perro\n",
    "class Perro:\n",
    "    #atributos de clase\n",
    "    cabeza = 1\n",
    "    patas =  4\n",
    "    \n",
    "    #atributos de instancia\n",
    "    def __init__(self, raza, color):\n",
    "        self.raza = raza\n",
    "        self.color = color\n",
    "\n",
    "firu = Perro('labrador', 'marron')\n",
    "luna = Perro('caniche', 'blanco')\n",
    "\n",
    "print(firu.raza)\n",
    "print(luna.color)"
   ]
  },
  {
   "cell_type": "code",
   "execution_count": 22,
   "id": "ab5a91ee",
   "metadata": {},
   "outputs": [
    {
     "name": "stdout",
     "output_type": "stream",
     "text": [
      "me llamo igort y soy marron\n"
     ]
    }
   ],
   "source": [
    "# CHALLENGE 1 \n",
    "\n",
    "class Animal:\n",
    "\n",
    "    #metodo:\n",
    "    def __init__(self,nombre, color):\n",
    "        self.nombre = nombre\n",
    "        self.color = color\n",
    "    \n",
    "    def hablar(seff):\n",
    "        print('cuando hablo digohola')\n",
    "\n",
    "perro = Animal('igort', 'marron')\n",
    "print(f'me llamo {perro.nombre} y soy {perro.color}')"
   ]
  },
  {
   "cell_type": "code",
   "execution_count": 23,
   "id": "0e958ddc",
   "metadata": {},
   "outputs": [
    {
     "name": "stdout",
     "output_type": "stream",
     "text": [
      "me llamo, bruno y tengo 17\n",
      "me muevo hacia: la izquierda\n"
     ]
    }
   ],
   "source": [
    "#CHALLENGE 2:\n",
    "class Persona:\n",
    "    def hablar(self):\n",
    "\n",
    "    #si quiero preguntar algo al usuario nececito meter la pregunta dentro del metodo\n",
    "        nombre = input('nombre')\n",
    "        edad = input('edad')\n",
    "        print(f'me llamo, {nombre} y tengo {edad}')\n",
    "\n",
    "    def moverse(self):\n",
    "        mover = input('me muevo')\n",
    "        print(f'me muevo hacia: {mover}')\n",
    "    \n",
    "persona = Perro()\n",
    "persona.hablar()\n",
    "persona.moverse()"
   ]
  },
  {
   "cell_type": "code",
   "execution_count": 84,
   "id": "b8a7c3c7",
   "metadata": {},
   "outputs": [
    {
     "name": "stdout",
     "output_type": "stream",
     "text": [
      "me llamo, bruno y tengo 19\n",
      "me muevo hacia: izquerda\n",
      "tengo el pelo lacio\n",
      "mido 1.66\n"
     ]
    }
   ],
   "source": [
    "#CHALLENGE 3\n",
    "\n",
    "class Persona:\n",
    "    def hablar(self):\n",
    "\n",
    "    #si quiero preguntar algo al usuario nececito meter la pregunta dentro del metodo\n",
    "        nombre = input('nombre')\n",
    "        edad = input('edad')\n",
    "        print(f'me llamo, {nombre} y tengo {edad}')\n",
    "\n",
    "    def moverse(self):\n",
    "        mover = input('me muevo')\n",
    "        print(f'me muevo hacia: {mover}')\n",
    "    \n",
    "persona = Persona()\n",
    "persona.hablar()\n",
    "persona.moverse()\n",
    "\n",
    "class Persona2(Persona):\n",
    "    def pelo(self):\n",
    "        pelo = input(\"que tipo de pelo\")\n",
    "        print(f'tengo el pelo {pelo}')\n",
    "\n",
    "    def altura(self):\n",
    "        altura = input('cuanto mides')\n",
    "        print(f'mido {altura}')\n",
    "\n",
    "persona = Persona2()\n",
    "persona.pelo()\n",
    "persona.altura()"
   ]
  },
  {
   "cell_type": "code",
   "execution_count": 117,
   "id": "ce3ca49e",
   "metadata": {},
   "outputs": [
    {
     "name": "stdout",
     "output_type": "stream",
     "text": [
      "INFO TOTAL: {'nombre': 'bruno', 'edad': 19, 'sexo': 'hombre', 'telefono': 988799764, 'correo electronico': 'bruno303@gmail', 'ciudad': 'asu'}\n",
      "CLAVES:\n",
      "nombre\n",
      "edad\n",
      "sexo\n",
      "telefono\n",
      "correo electronico\n",
      "ciudad\n",
      "VALORES:\n",
      "bruno\n",
      "19\n",
      "hombre\n",
      "988799764\n",
      "bruno303@gmail\n",
      "asu\n",
      "nombre: bruno\n",
      "edad: 19\n",
      "sexo: hombre\n",
      "telefono: 988799764\n",
      "correo electronico: bruno303@gmail\n",
      "ciudad: asu\n"
     ]
    }
   ],
   "source": [
    "#CHALLENGE 4:\n",
    "#creo un diccionario con {}\n",
    "info = {}\n",
    "\n",
    "#le agrego un dato mas con [''] = el dato a agregar\n",
    "info = {\n",
    "    'nombre': 'bruno',\n",
    "    'edad': 19,\n",
    "    'sexo': 'hombre',\n",
    "    'telefono': 988799764,\n",
    "    'correo electronico': 'bruno303@gmail'}\n",
    "ciudad = input('en donde vivis?')\n",
    "info['ciudad'] = ciudad\n",
    "\n",
    "#prin(info) muestra todo el dato del diccionario \n",
    "print(f'INFO TOTAL: {info}')\n",
    "\n",
    "#muestra solo las claves\n",
    "print('CLAVES:')\n",
    "for claves in info.keys():\n",
    "    print(claves)\n",
    "\n",
    "#muestra solo los valores\n",
    "print('VALORES:')\n",
    "for valor in info.values():\n",
    "    print(valor)\n",
    "\n",
    "#recorre cada par y en cada vuelta guarda la clave en la variable 'clave' y el valor en la variable 'valor'\n",
    "for clave, valor in info.items():\n",
    "    print(f'{clave}: {valor}')\n"
   ]
  },
  {
   "cell_type": "code",
   "execution_count": null,
   "id": "18cb1462",
   "metadata": {},
   "outputs": [
    {
     "name": "stdout",
     "output_type": "stream",
     "text": [
      "1. Crea un dato\n",
      "2. modifica un dato\n",
      "3. elimina un dato\n",
      "opcion 3: dato borrado\n"
     ]
    },
    {
     "ename": "NameError",
     "evalue": "name 'tarjeta_personal' is not defined",
     "output_type": "error",
     "traceback": [
      "\u001b[31m---------------------------------------------------------------------------\u001b[39m",
      "\u001b[31mNameError\u001b[39m                                 Traceback (most recent call last)",
      "\u001b[36mCell\u001b[39m\u001b[36m \u001b[39m\u001b[32mIn[175]\u001b[39m\u001b[32m, line 21\u001b[39m\n\u001b[32m     19\u001b[39m \u001b[38;5;28;01mdel\u001b[39;00m tarjeta_personal\n\u001b[32m     20\u001b[39m \u001b[38;5;28mprint\u001b[39m(\u001b[33m'\u001b[39m\u001b[33mopcion 3: dato borrado\u001b[39m\u001b[33m'\u001b[39m)\n\u001b[32m---> \u001b[39m\u001b[32m21\u001b[39m \u001b[38;5;28;01mif\u001b[39;00m \u001b[43mtarjeta_personal\u001b[49m == {}:\n\u001b[32m     22\u001b[39m     \u001b[38;5;28mprint\u001b[39m(\u001b[33m'\u001b[39m\u001b[33mno hay datos recientes\u001b[39m\u001b[33m'\u001b[39m)\n",
      "\u001b[31mNameError\u001b[39m: name 'tarjeta_personal' is not defined"
     ]
    }
   ],
   "source": [
    "#CHALLENGE 5:\n",
    "\n",
    "tarjeta_personal = {}\n",
    "\n",
    "print('1. Crea un dato')\n",
    "print('2. modifica un dato')\n",
    "print('3. elimina un dato')\n",
    "\n",
    "agregar_dato = input(\"ingresa una de las opciones\")\n",
    "if agregar_dato == '1':\n",
    "    crear_dato = input('ingresa el dato')\n",
    "    tarjeta_personal['dato'] = crear_dato\n",
    "    print(f'opcion 1: dato agregado: {tarjeta_personal}')\n",
    "\n",
    "if agregar_dato == '2':\n",
    "    modificar_datos = input('nuenos datos')\n",
    "    tarjeta_personal['dato nuevo:'] = modificar_datos\n",
    "    print(f'opcion 2: nuevo dato: {tarjeta_personal}')\n",
    "\n",
    "if agregar_dato == \"3\":\n",
    "    del tarjeta_personal\n",
    "    print('opcion 3: dato borrado')\n",
    "\n",
    "\n",
    "    \n",
    "    \n",
    "    \n"
   ]
  },
  {
   "cell_type": "code",
   "execution_count": 214,
   "id": "569228a3",
   "metadata": {},
   "outputs": [
    {
     "name": "stdout",
     "output_type": "stream",
     "text": [
      "1. ver contactos existentes\n",
      "2. crear contacto nuevo\n",
      "3. modificar un  contacto\n",
      "opcion 3: nuevo dato: {1: {'nombre': 'bruno'}, 2: {'nombre': 'alejando'}, 3: {'nombre': 'emily'}, 'contacto modificacdo:': 'bruno'}\n"
     ]
    }
   ],
   "source": [
    "#CHALLENGE 6:\n",
    "\n",
    "agenda_de_contactos = {\n",
    "    1:{'nombre':'bruno'},\n",
    "    2:{'nombre':'alejando'},\n",
    "    3:{'nombre':'emily'}}\n",
    "print('1. ver contactos existentes')\n",
    "print('2. crear contacto nuevo')\n",
    "print('3. modificar un  contacto')\n",
    "\n",
    "opcion = input('ingresa una opcion')\n",
    "if opcion == '1':\n",
    "    print(agenda_de_contactos)\n",
    "\n",
    "if opcion == '2':\n",
    "    crear_contacto = input('ingresa el dato')\n",
    "    agenda_de_contactos['nombre'] = crear_contacto\n",
    "    print(f'opcion 2: dato agregado: {agenda_de_contactos}')\n",
    "\n",
    "if opcion == '3':\n",
    "    modificar_contacto = input('modificar contacto')\n",
    "    agenda_de_contactos['contacto modificacdo:'] = modificar_contacto\n",
    "    print(f'opcion 3: nuevo dato: {agenda_de_contactos}')\n",
    "    "
   ]
  }
 ],
 "metadata": {
  "kernelspec": {
   "display_name": ".venv",
   "language": "python",
   "name": "python3"
  },
  "language_info": {
   "codemirror_mode": {
    "name": "ipython",
    "version": 3
   },
   "file_extension": ".py",
   "mimetype": "text/x-python",
   "name": "python",
   "nbconvert_exporter": "python",
   "pygments_lexer": "ipython3",
   "version": "3.12.3"
  }
 },
 "nbformat": 4,
 "nbformat_minor": 5
}
