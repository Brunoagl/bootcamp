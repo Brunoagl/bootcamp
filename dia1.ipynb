{
 "cells": [
  {
   "cell_type": "code",
   "execution_count": 38,
   "id": "fc1a9886",
   "metadata": {},
   "outputs": [
    {
     "name": "stdout",
     "output_type": "stream",
     "text": [
      "bruno\n",
      "100 grados\n",
      "True\n",
      "load data\n",
      "False\n",
      "hola mundo\n",
      "[6] new menssages\n"
     ]
    }
   ],
   "source": [
    "nombre = 'andres'\n",
    "nombre = 'bruno'\n",
    "print(nombre)\n",
    "\n",
    "temperatura = '0 grados'\n",
    "temperatura = '100 grados'\n",
    "print(temperatura)\n",
    "\n",
    "hola = True\n",
    "print(hola)\n",
    "\n",
    "print('load data')\n",
    "status = False\n",
    "print(status)\n",
    "\n",
    "print('hola' + ' mundo')\n",
    "\n",
    "print(f'[6] new menssages')"
   ]
  },
  {
   "cell_type": "code",
   "execution_count": null,
   "id": "43b8b1d4",
   "metadata": {},
   "outputs": [
    {
     "name": "stdout",
     "output_type": "stream",
     "text": [
      "bruno 19 asuncion\n"
     ]
    }
   ],
   "source": [
    "nombre = 'bruno'\n",
    "edad = 19\n",
    "ciudad = 'asuncion'\n",
    "print(nombre, edad, ciudad)"
   ]
  },
  {
   "cell_type": "code",
   "execution_count": null,
   "id": "7f84cefb",
   "metadata": {},
   "outputs": [
    {
     "name": "stdout",
     "output_type": "stream",
     "text": [
      "cantidad de manzanas: 20\n",
      "cantidad de naranjas: 10\n",
      "total de frutas: 30\n",
      "furtas vendidas: 5\n",
      "cantidad de frutas: 20\n",
      "frutas restantes: 15\n"
     ]
    }
   ],
   "source": [
    "#challenge 1\n",
    "# suma \n",
    "cantidad_de_manzanas = 20\n",
    "cantidad_de_naranjas = 10\n",
    "cantidad_de_frutas = cantidad_de_manzanas + cantidad_de_naranjas\n",
    "print('cantidad de manzanas:', cantidad_de_manzanas)\n",
    "print('cantidad de naranjas:', cantidad_de_naranjas)\n",
    "print('total de frutas:', cantidad_de_frutas)\n",
    "\n",
    "# resta\n",
    "frutas_vendidas = 5 \n",
    "cantidad_de_frutas = 20\n",
    "frutas_restantes = cantidad_de_frutas - frutas_vendidas\n",
    "print(\"furtas vendidas:\", frutas_vendidas)\n",
    "print('cantidad de frutas:', cantidad_de_frutas)\n",
    "print('frutas restantes:', frutas_restantes)"
   ]
  },
  {
   "cell_type": "code",
   "execution_count": null,
   "id": "030dc6b8",
   "metadata": {},
   "outputs": [
    {
     "name": "stdout",
     "output_type": "stream",
     "text": [
      "hola me llamo alejandro y mi apellido es caballero\n"
     ]
    }
   ],
   "source": [
    "#challenge 2\n",
    "nombre = 'alejandro'\n",
    "apellido = 'caballero'\n",
    "print(f'hola me llamo {nombre} y mi apellido es {apellido}')"
   ]
  },
  {
   "cell_type": "code",
   "execution_count": null,
   "id": "59a1edcb",
   "metadata": {},
   "outputs": [
    {
     "name": "stdout",
     "output_type": "stream",
     "text": [
      "nombre de usuario:bruno\n",
      "primer numero: 2\n",
      "segundo numero: 4\n",
      "6\n"
     ]
    }
   ],
   "source": [
    "#challenge 3\n",
    "nombre = input('ingrese su nombre')\n",
    "edad1 = int(input('ingrese su edad'))\n",
    "edad2 = int(input('ingrese su edad'))\n",
    "print(f'nombre de usuario:{nombre}')\n",
    "print(f'primer numero: {edad1}')\n",
    "print(f'segundo numero: {edad2}')\n",
    "print(edad1 + edad2)\n"
   ]
  },
  {
   "cell_type": "code",
   "execution_count": null,
   "id": "7ca27028",
   "metadata": {},
   "outputs": [
    {
     "name": "stdout",
     "output_type": "stream",
     "text": [
      " mi sandwich tiene pan, pan, pan, pan\n",
      " mi sandwich tiene pan, pan, pan, pan\n",
      " mi sandwich tiene pan, pan, pan, pan\n"
     ]
    }
   ],
   "source": [
    "#challengue 4\n",
    "def registro():\n",
    "    ingrediente1 = input('ingresa el ingrediente')\n",
    "    ingrediente2= input('ingresa el ingrediente')\n",
    "    ingrediente3 = input('ingresa el ingrediente')\n",
    "    ingrediente4 = input('ingresa el ingrediente')\n",
    "    print(f' mi sandwich tiene {ingrediente1}, {ingrediente2}, {ingrediente3}, {ingrediente4}')\n",
    "\n",
    "registro()\n",
    "\n",
    "registro()\n",
    "\n",
    "registro()"
   ]
  },
  {
   "cell_type": "code",
   "execution_count": null,
   "id": "a859e527",
   "metadata": {},
   "outputs": [
    {
     "name": "stdout",
     "output_type": "stream",
     "text": [
      "mi comida es,lomito arabe\n",
      "compre de:pedidos ya\n",
      "me costo:35000\n",
      "mi comida es,hamburguesa\n",
      "compre de:burguer king\n",
      "me costo:40000\n",
      "mi comida es,cafe\n",
      "compre de:una cafeteria\n",
      "me costo:5000\n"
     ]
    }
   ],
   "source": [
    "#challenge 5\n",
    "def comprar_comida(comida, de_donde, costo):\n",
    "    print(f'mi comida es,{comida}')\n",
    "    print(f'compre de:{de_donde}')\n",
    "    print(f'me costo:{costo}')\n",
    "\n",
    "comprar_comida('lomito arabe','pedidos ya', 35000)\n",
    "\n",
    "comprar_comida('hamburguesa', 'burguer king', 40000)\n",
    "\n",
    "comprar_comida('cafe', 'una cafeteria',5000)"
   ]
  },
  {
   "cell_type": "code",
   "execution_count": null,
   "id": "ebde79ab",
   "metadata": {},
   "outputs": [],
   "source": [
    "\n",
    "\n"
   ]
  }
 ],
 "metadata": {
  "kernelspec": {
   "display_name": ".venv",
   "language": "python",
   "name": "python3"
  },
  "language_info": {
   "codemirror_mode": {
    "name": "ipython",
    "version": 3
   },
   "file_extension": ".py",
   "mimetype": "text/x-python",
   "name": "python",
   "nbconvert_exporter": "python",
   "pygments_lexer": "ipython3",
   "version": "3.12.3"
  }
 },
 "nbformat": 4,
 "nbformat_minor": 5
}
